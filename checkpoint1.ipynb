{
 "cells": [
  {
   "cell_type": "code",
   "execution_count": 1,
   "id": "fa8c854a",
   "metadata": {},
   "outputs": [
    {
     "name": "stdout",
     "output_type": "stream",
     "text": [
      "ok\n"
     ]
    }
   ],
   "source": [
    "print(\"ok\")"
   ]
  },
  {
   "cell_type": "markdown",
   "id": "05140ba5",
   "metadata": {},
   "source": [
    "# question 1"
   ]
  },
  {
   "cell_type": "code",
   "execution_count": 2,
   "id": "d1f75b6a",
   "metadata": {},
   "outputs": [
    {
     "name": "stdout",
     "output_type": "stream",
     "text": [
      "bonjour est ce que vous allez bien\n"
     ]
    }
   ],
   "source": [
    "print(\"bonjour est ce que vous allez bien\")"
   ]
  },
  {
   "cell_type": "markdown",
   "id": "f4cb0c9d",
   "metadata": {},
   "source": [
    "# quesion 2"
   ]
  },
  {
   "cell_type": "code",
   "execution_count": 3,
   "id": "ab36796d",
   "metadata": {},
   "outputs": [
    {
     "name": "stdout",
     "output_type": "stream",
     "text": [
      "je m'appelle ayman\n"
     ]
    }
   ],
   "source": [
    "print(\"je m'appelle ayman\")"
   ]
  },
  {
   "cell_type": "code",
   "execution_count": null,
   "id": "3d04b901",
   "metadata": {},
   "outputs": [],
   "source": []
  }
 ],
 "metadata": {
  "kernelspec": {
   "display_name": "Python 3",
   "language": "python",
   "name": "python3"
  },
  "language_info": {
   "codemirror_mode": {
    "name": "ipython",
    "version": 3
   },
   "file_extension": ".py",
   "mimetype": "text/x-python",
   "name": "python",
   "nbconvert_exporter": "python",
   "pygments_lexer": "ipython3",
   "version": "3.8.8"
  }
 },
 "nbformat": 4,
 "nbformat_minor": 5
}
