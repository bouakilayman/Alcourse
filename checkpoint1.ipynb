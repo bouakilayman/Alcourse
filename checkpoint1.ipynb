{
 "cells": [
  {
   "cell_type": "code",
   "execution_count": 1,
   "id": "f74c7119",
   "metadata": {},
   "outputs": [
    {
     "name": "stdout",
     "output_type": "stream",
     "text": [
      "ok\n"
     ]
    }
   ],
   "source": [
    "print(\"ok\")"
   ]
  },
  {
   "cell_type": "markdown",
   "id": "ababb4bb",
   "metadata": {},
   "source": [
    "# question 1"
   ]
  },
  {
   "cell_type": "code",
   "execution_count": 2,
   "id": "fb8ea887",
   "metadata": {},
   "outputs": [
    {
     "name": "stdout",
     "output_type": "stream",
     "text": [
      "bonjour est ce que vous allez bien\n"
     ]
    }
   ],
   "source": [
    "print(\"bonjour est ce que vous allez bien\")"
   ]
  },
  {
   "cell_type": "markdown",
   "id": "ffc04877",
   "metadata": {},
   "source": [
    "# quesion 2"
   ]
  },
  {
   "cell_type": "code",
   "execution_count": 4,
   "id": "a89f8101",
   "metadata": {},
   "outputs": [
    {
     "name": "stdout",
     "output_type": "stream",
     "text": [
      "comment tu t'appeles\n"
     ]
    }
   ],
   "source": [
    "print(\"comment tu t'appeles\")"
   ]
  },
  {
   "cell_type": "code",
   "execution_count": null,
   "id": "5351a8b7",
   "metadata": {},
   "outputs": [],
   "source": []
  }
 ],
 "metadata": {
  "kernelspec": {
   "display_name": "Python 3",
   "language": "python",
   "name": "python3"
  },
  "language_info": {
   "codemirror_mode": {
    "name": "ipython",
    "version": 3
   },
   "file_extension": ".py",
   "mimetype": "text/x-python",
   "name": "python",
   "nbconvert_exporter": "python",
   "pygments_lexer": "ipython3",
   "version": "3.8.8"
  }
 },
 "nbformat": 4,
 "nbformat_minor": 5
}
